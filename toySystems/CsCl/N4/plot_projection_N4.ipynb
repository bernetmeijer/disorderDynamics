{
 "cells": [
  {
   "cell_type": "markdown",
   "metadata": {},
   "source": [
    "# Investigate projection"
   ]
  },
  {
   "cell_type": "code",
   "execution_count": 1,
   "metadata": {},
   "outputs": [],
   "source": [
    "import h5py\n",
    "import os\n",
    "import matplotlib.pyplot as plt\n",
    "import colorcet as cc\n",
    "import pandas as pd\n",
    "import numpy as np"
   ]
  },
  {
   "cell_type": "code",
   "execution_count": null,
   "metadata": {},
   "outputs": [],
   "source": [
    "sdir = './projection'"
   ]
  },
  {
   "cell_type": "code",
   "execution_count": 2,
   "metadata": {},
   "outputs": [
    {
     "name": "stdout",
     "output_type": "stream",
     "text": [
      "<HDF5 file \"modes.h5\" (mode r)>\n"
     ]
    }
   ],
   "source": [
    "with h5py.File(os.path.join(sdir, 'modes.h5'), 'r') as hf:\n",
    "    modes = hf['modes'][:]\n",
    "with h5py.File(os.path.join(sdir, 'projections.h5'), 'r') as hf:\n",
    "    projections = hf['projections'][:]\n",
    "with h5py.File(os.path.join(sdir, 'kvecs.h5'), 'r') as hf:\n",
    "    kvecs = hf['kvecs'][:]\n",
    "with h5py.File(os.path.join(sdir, 'omegas.h5'), 'r') as hf:\n",
    "    omegas = hf['omegas'][:]\n",
    "    \n",
    "df = pd.DataFrame({'omegas': omegas, 'projections': projections, 'kx': kvecs[:,0]})"
   ]
  },
  {
   "cell_type": "markdown",
   "metadata": {},
   "source": [
    "## make dispersion plot\n",
    "Path is from Gamma to X."
   ]
  },
  {
   "cell_type": "code",
   "execution_count": 3,
   "metadata": {},
   "outputs": [
    {
     "name": "stdout",
     "output_type": "stream",
     "text": [
      "summed projection for kx=0.0 is 5.9999999999982965\n",
      "summed projection for kx=0.25 is 5.999999999994548\n",
      "summed projection for kx=0.5 is 5.999999999999957\n",
      "summed projection for kx=0.75 is 5.999999999994548\n"
     ]
    }
   ],
   "source": [
    "all_om = []\n",
    "all_proj = []\n",
    "all_k = []\n",
    "for kk in df['kx'].unique():\n",
    "    mdf = df.loc[df['kx']==kk]\n",
    "    g_om = mdf['omegas'].to_numpy()\n",
    "    g_proj = mdf['projections'].to_numpy()\n",
    "    threshold = 3\n",
    "    unique_omegas = []\n",
    "    unique_proj = []\n",
    "    rounded_omegas = np.round(g_om, threshold)\n",
    "    #print('length of omegas, projs is ', len(rounded_omegas), len(these_projections))\n",
    "    for ii, om in enumerate(rounded_omegas):\n",
    "        if om in unique_omegas:\n",
    "            add_where = np.where(np.array(unique_omegas) == om)\n",
    "            #print(add_where[0][0])\n",
    "            unique_proj[add_where[0][0]] += g_proj[ii]\n",
    "        else:\n",
    "            unique_omegas.append(om)\n",
    "            unique_proj.append(g_proj[ii])\n",
    "    # make a little df, and order the projections by value\n",
    "    ldf = pd.DataFrame({'omegas': unique_omegas, 'projections': unique_proj})\n",
    "    ldf = ldf.sort_values(by=['projections'])\n",
    "    unique_omegas = list(ldf['omegas'].to_numpy())\n",
    "    unique_proj = list(ldf['projections'].to_numpy())\n",
    "    all_om += unique_omegas\n",
    "    all_proj += unique_proj\n",
    "    all_k += [kk]*len(unique_omegas)\n"
   ]
  },
  {
   "cell_type": "code",
   "execution_count": 5,
   "metadata": {
    "pycharm": {
     "name": "#%%\n"
    }
   },
   "outputs": [
    {
     "data": {
      "text/plain": [
       "<matplotlib.colorbar.Colorbar at 0x7fa6ecd04d90>"
      ]
     },
     "execution_count": 5,
     "metadata": {},
     "output_type": "execute_result"
    },
    {
     "data": {
      "image/png": "[encoded data removed]",
      "text/plain": [
       "<Figure size 432x288 with 2 Axes>"
      ]
     },
     "metadata": {
      "needs_background": "light"
     },
     "output_type": "display_data"
    }
   ],
   "source": [
    "cmap = cc.cm['bgyw_r']\n",
    "plt.scatter(all_k, all_om, c=all_proj, cmap=cmap, vmin=0, vmax=6)\n",
    "plt.title('colour bar max at 6')\n",
    "plt.xlim([-0.02, 0.52])\n",
    "plt.colorbar()"
   ]
  }
 ],
 "metadata": {
  "kernelspec": {
   "display_name": "Python 3",
   "language": "python",
   "name": "python3"
  },
  "language_info": {
   "codemirror_mode": {
    "name": "ipython",
    "version": 3
   },
   "file_extension": ".py",
   "mimetype": "text/x-python",
   "name": "python",
   "nbconvert_exporter": "python",
   "pygments_lexer": "ipython3",
   "version": "3.8.5"
  }
 },
 "nbformat": 4,
 "nbformat_minor": 5
}